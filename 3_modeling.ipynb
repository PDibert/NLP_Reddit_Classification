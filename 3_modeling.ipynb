{
 "cells": [
  {
   "cell_type": "markdown",
   "metadata": {},
   "source": [
    "# Modeling"
   ]
  },
  {
   "cell_type": "markdown",
   "metadata": {},
   "source": [
    "## Table of Contents:\n",
    "* [Import Data, Packages, and Create Train Test Split](#first-bullet)\n",
    "* [Multinomial Naive Bayes Model](#second-bullet)\n",
    "    * [Multinomial NB Using CountVectorizer (CVEC)](#third-bullet)\n",
    "    * [Multinomial NB Using TF-IDF](#fourth-bullet)\n",
    "* [Logistic Regression (LR) Model](#five-bullet)\n",
    "    * [LR Using CountVectorizer (CVEC)](#six-bullet)\n",
    "    * [LR Using TF-IDF](#seven-bullet)\n",
    "* [Random Forest (RF) Model](#eight-bullet)\n",
    "    * [RF Using CountVectorizer (CVEC)](#nine-bullet)\n",
    "    * [RF Using TF-IDF](#ten-bullet)\n",
    "* [Tuning AdaBoost Model](#eleven-bullet)\n",
    "    * [AdaBoost Using CountVectorizer (CVEC)](#twelve-bullet)\n",
    "    * [AdaBoost Using TF-IDF](#thirteen-bullet)\n",
    "* [Voting Classifier Model](#fourteen-bullet)\n",
    "* [Evaluation Metrics](#fifteen-bullet)\n",
    "* [Conclusion](#sixteen-bullet)"
   ]
  },
  {
   "cell_type": "markdown",
   "metadata": {},
   "source": [
    "## Import Data, Packages, and Create Train Test Split <a class=\"anchor\" id=\"first-bullet\"></a>"
   ]
  },
  {
   "cell_type": "markdown",
   "metadata": {},
   "source": [
    "In the prior notebooks (\"1_import_data\" and \"2_eda\"), we imported data from the canoeing and table tennis sub-reddits.\n",
    "We determined that because 50% of the posts in our dataset are table tennis, in our classification models, 50% will serve as our baseline accuracy.  We will arbitrarily select table tennis as the positive for our models.  Because we have an equal\n",
    "number of each class, it will not matter which class we use to calculate our baseline accuracy.  If we did not have this \n",
    "50/50 split, our baseline accuracy would be determined by the larger of the two."
   ]
  },
  {
   "cell_type": "code",
   "execution_count": 409,
   "metadata": {},
   "outputs": [],
   "source": [
    "import warnings\n",
    "warnings.simplefilter(action='ignore', category=FutureWarning)"
   ]
  },
  {
   "cell_type": "code",
   "execution_count": 145,
   "metadata": {},
   "outputs": [],
   "source": [
    "## Import Data and Packagesimport pandas as pd\n",
    "from sklearn.linear_model import LogisticRegression\n",
    "from sklearn.model_selection import train_test_split, GridSearchCV\n",
    "from sklearn.pipeline import Pipeline\n",
    "from sklearn.feature_extraction.text import CountVectorizer, TfidfVectorizer\n",
    "from sklearn.ensemble import RandomForestClassifier , GradientBoostingClassifier, AdaBoostClassifier, VotingClassifier\n",
    "from sklearn.tree import DecisionTreeClassifier\n",
    "from sklearn.naive_bayes import MultinomialNB"
   ]
  },
  {
   "cell_type": "markdown",
   "metadata": {},
   "source": [
    "First, we will import our csvs containing the post data into two separate data frames.  Next, we will combine the two into \n",
    "one dataframe.  Our classification models need a numeric y-value, so we will turn the sub-reddit name field into an int\n",
    "field, by assigning 0 to canoe and 1 to table tennis.  For our modeling, the post tile will serve as our x-value."
   ]
  },
  {
   "cell_type": "code",
   "execution_count": 3,
   "metadata": {},
   "outputs": [],
   "source": [
    "# import data\n",
    "import pandas as pd\n",
    "import numpy as np\n",
    "tennis_df = pd.read_csv('./table_tennis_data.csv')\n",
    "canoe_df = pd.read_csv('canoe_data.csv')"
   ]
  },
  {
   "cell_type": "code",
   "execution_count": 4,
   "metadata": {},
   "outputs": [],
   "source": [
    "full_df = pd.concat([tennis_df, canoe_df], axis=0)"
   ]
  },
  {
   "cell_type": "code",
   "execution_count": 5,
   "metadata": {},
   "outputs": [],
   "source": [
    "full_df = full_df.reset_index(drop=True)"
   ]
  },
  {
   "cell_type": "code",
   "execution_count": 6,
   "metadata": {},
   "outputs": [],
   "source": [
    "full_df = full_df.drop(['Unnamed: 0'], axis=1)"
   ]
  },
  {
   "cell_type": "code",
   "execution_count": 7,
   "metadata": {},
   "outputs": [],
   "source": [
    "# Binarize label column\n",
    "full_df[\"post_sub\"] = full_df[\"post_sub\"].map({\"canoeing\":0,\"tabletennis\":1})"
   ]
  },
  {
   "cell_type": "code",
   "execution_count": 8,
   "metadata": {},
   "outputs": [],
   "source": [
    "X = full_df['post_title'] # x needsto be a pd.arry / pd.series when feeding into a CountVectorizer\n",
    "y = full_df['post_sub']"
   ]
  },
  {
   "cell_type": "markdown",
   "metadata": {},
   "source": [
    "Using the X and y values that we created above, we will create training and test data sets to be used by the models that we \n",
    "create."
   ]
  },
  {
   "cell_type": "code",
   "execution_count": 9,
   "metadata": {},
   "outputs": [],
   "source": [
    "X_train, X_test, y_train, y_test = train_test_split(X, y,\n",
    "                                                    random_state=42,\n",
    "                                                    stratify=y) # maintain % of target classes"
   ]
  },
  {
   "cell_type": "markdown",
   "metadata": {},
   "source": [
    "We will now run a variety of classification models to predict which sub-reddit a post title belongs to.  Because our goal is \n",
    "to predict as many posts correct as we can, we don't care if we get more table tennis or more canoeing posts.  If we had a \n",
    "preference to get more of one sub-reddit's posts correct, we would evaluate our models using specificity or sensitivity.\n",
    "We will use accuracy as our evaluation metric, and judge all of the models we run on this metric.\n",
    "\n",
    "In order to find the model with the highest accuracy, we will run five types of classification models: multinomial Naive Bayes,\n",
    "logistic regression, Random Forest, runing AdaBoost, and Voting Classification.  We will try using two types of feature extraction tools for each model; Count Vectorizer and TF-IDF.\n",
    "\n",
    "Our NLP models can't work with our unstructured X-values as they currently exist.  To implement our models, we will need to \n",
    "perform feature extraction to create a numeric X matrix.  Both of the feature extraction techniques will give us the ability\n",
    "to run bag-of-words models.  This will represent our data (post title) as a set of the frequency of the words in a post title,\n",
    "and will ignore grammer, word order, and sentence structre.\n",
    "\n",
    "CVEC will give us the raw counts of each word in the set of post titles.  TF-IDF will give us an idea of the differences between the sub-reddits by weighting the popularity of words.  Words that appear commonly in many posts will be de-valued, and words that appear less frequently will be valued higher."
   ]
  },
  {
   "cell_type": "markdown",
   "metadata": {},
   "source": [
    "## Multinomal Naive Bayes Models <a class=\"anchor\" id=\"second-bullet\"></a>"
   ]
  },
  {
   "cell_type": "markdown",
   "metadata": {},
   "source": [
    "The first model we will run will be our Naive Bayes model.  Using Bayes theorem, Naive Bayes classification models are commonly used in NLP classification problems.  The model assumes that each of the words in the text are independent.  Because the model typically performs well on test data in NLP problems, we are willing to make this assumption.  For our model, we will use the multinomial Naive Bayes model because the columns of X are integer counts.  If we had other data types, we would use either Bernoulli or Gaussian Naive Bayes models."
   ]
  },
  {
   "cell_type": "markdown",
   "metadata": {},
   "source": [
    "### Pipeline - CVEC + Multinomial NB <a class=\"anchor\" id=\"third-bullet\"></a>"
   ]
  },
  {
   "cell_type": "markdown",
   "metadata": {},
   "source": [
    "As discussed above, we will run each of our models two ways; once using the CVEC and once using TF-IDF.  To run our models, we will set up a pipeline to run the vectorizer and the modeling one step.  We will also be using GridSearchCV in order to tune the hyperparameters of both the vectorizer and the model.  Finally, we will fit and score our models."
   ]
  },
  {
   "cell_type": "code",
   "execution_count": 182,
   "metadata": {},
   "outputs": [],
   "source": [
    "mb_cvec_pipe = Pipeline([\n",
    "    ('cvec', CountVectorizer()), # or tvec\n",
    "    ('mb', MultinomialNB())\n",
    "    \n",
    "])"
   ]
  },
  {
   "cell_type": "markdown",
   "metadata": {},
   "source": [
    "For Naive Bayes, we will not set any parameters.  We will only be setting parameters for the CVEC.  Each of these parameters is set below and contains a comment on what is being set.\n",
    "\n",
    "GridSearchCV will run through all of the possible combinations of parameters we have inputted.\n",
    "\n",
    "We have also set up a cross validation of three, meaning we will split the data and run the model multiple times, giving us an average of multiple runs."
   ]
  },
  {
   "cell_type": "code",
   "execution_count": 206,
   "metadata": {},
   "outputs": [],
   "source": [
    "# Tune GridSearchCV\n",
    "mb_cvec_pipe_params = {\n",
    "    'cvec__stop_words' : [None, 'english'],  # if English, remove a list of common words from our dataset\n",
    "    'cvec__decode_error' : ['ignore']  ,         # Either ignore or replace decoding errors ['ignore', 'replace'],\n",
    "    'cvec__strip_accents': ['ascii']  ,          # How to deal with accents, either: ['ascii', 'unicode', None],\n",
    "    'cvec__analyzer':['word']       ,            # How CVEC will create columns, either by word or character ['word', 'char', 'char_wb'] ,\n",
    "    'cvec__max_features': [1250, 1300, 1350, 1400], # How many features to create in the matrix.\n",
    "    'cvec__max_df' : [.1, .15, .2, .25], #ignore terms that occur in more than the indicated portion of documents\n",
    "    'cvec__min_df' : [0, .05, .01], # ignore terms that occur in fewer than the indicated portion of documents\n",
    "    'cvec__ngram_range' : [(1,1), (1, 2)] # create terms using either one or two word combinations\n",
    "}\n",
    "mb_cvec_gs = GridSearchCV(mb_cvec_pipe, param_grid=mb_cvec_pipe_params, cv=3, n_jobs=-1)\n",
    "mb_cvec_gs.fit(X_train,y_train);"
   ]
  },
  {
   "cell_type": "code",
   "execution_count": 207,
   "metadata": {},
   "outputs": [
    {
     "data": {
      "text/plain": [
       "0.9124452782989368"
      ]
     },
     "execution_count": 207,
     "metadata": {},
     "output_type": "execute_result"
    }
   ],
   "source": [
    "mb_cvec_gs.best_score_"
   ]
  },
  {
   "cell_type": "markdown",
   "metadata": {},
   "source": [
    "Below are the best parameters from the grid search that we ran above."
   ]
  },
  {
   "cell_type": "code",
   "execution_count": 208,
   "metadata": {},
   "outputs": [
    {
     "data": {
      "text/plain": [
       "{'cvec__analyzer': 'word',\n",
       " 'cvec__decode_error': 'ignore',\n",
       " 'cvec__max_df': 0.2,\n",
       " 'cvec__max_features': 1300,\n",
       " 'cvec__min_df': 0,\n",
       " 'cvec__ngram_range': (1, 2),\n",
       " 'cvec__stop_words': 'english',\n",
       " 'cvec__strip_accents': 'ascii'}"
      ]
     },
     "execution_count": 208,
     "metadata": {},
     "output_type": "execute_result"
    }
   ],
   "source": [
    "mb_cvec_gs.best_params_"
   ]
  },
  {
   "cell_type": "code",
   "execution_count": 209,
   "metadata": {},
   "outputs": [
    {
     "data": {
      "text/plain": [
       "0.9480925578486554"
      ]
     },
     "execution_count": 209,
     "metadata": {},
     "output_type": "execute_result"
    }
   ],
   "source": [
    "# Train score\n",
    "mb_cvec_gs.score(X_train, y_train)"
   ]
  },
  {
   "cell_type": "code",
   "execution_count": 210,
   "metadata": {},
   "outputs": [
    {
     "data": {
      "text/plain": [
       "0.897003745318352"
      ]
     },
     "execution_count": 210,
     "metadata": {},
     "output_type": "execute_result"
    }
   ],
   "source": [
    "# Test score\n",
    "mb_cvec_gs.score(X_test, y_test)"
   ]
  },
  {
   "cell_type": "markdown",
   "metadata": {},
   "source": [
    "Our best Naive Bayes model, using CVEC, had an accuracy score on .95 on the training set and .90 on the test set.  We will compare the test accuracy score to the results of the other models to determine which model we should use."
   ]
  },
  {
   "cell_type": "markdown",
   "metadata": {},
   "source": [
    "### Pipeline - TF IDF + Multinomial NB <a class=\"anchor\" id=\"fourth-bullet\"></a>"
   ]
  },
  {
   "cell_type": "markdown",
   "metadata": {},
   "source": [
    "Next, we will proceed with building our Naive bayes model using the TF-IDF (as described above).  We will use the same steps as we used for the CVEC Naive Bayes model.  TF-IDF will take in the same hyperparameters as we set for CVEC."
   ]
  },
  {
   "cell_type": "code",
   "execution_count": 211,
   "metadata": {},
   "outputs": [],
   "source": [
    "mb_tvec_pipe = Pipeline([\n",
    "    ('tvec', TfidfVectorizer()), # or tvec\n",
    "    ('mb', MultinomialNB())\n",
    "    \n",
    "])"
   ]
  },
  {
   "cell_type": "code",
   "execution_count": 219,
   "metadata": {},
   "outputs": [],
   "source": [
    "# Tune GridSearchCV\n",
    "mb_tvec_pipe_params = {\n",
    "    'tvec__stop_words' : [None, 'english'],\n",
    "    'tvec__decode_error' : ['ignore']  ,         \n",
    "    'tvec__strip_accents': ['ascii']  ,          \n",
    "    'tvec__analyzer':['word']       ,           \n",
    "    'tvec__max_features': [    2000, 2250, 2500], \n",
    "    'tvec__max_df' : [.1, .15, .2, .25],\n",
    "    'tvec__min_df' : [0, .05, .01],\n",
    "    'tvec__ngram_range' : [(1,1), (1, 2)] \n",
    "}\n",
    "mb_tvec_gs = GridSearchCV(mb_tvec_pipe, param_grid=mb_tvec_pipe_params, cv=3, n_jobs=-1)\n",
    "mb_tvec_gs.fit(X_train,y_train);"
   ]
  },
  {
   "cell_type": "code",
   "execution_count": 220,
   "metadata": {},
   "outputs": [
    {
     "data": {
      "text/plain": [
       "0.9161976235146967"
      ]
     },
     "execution_count": 220,
     "metadata": {},
     "output_type": "execute_result"
    }
   ],
   "source": [
    "mb_tvec_gs.best_score_"
   ]
  },
  {
   "cell_type": "code",
   "execution_count": 221,
   "metadata": {},
   "outputs": [
    {
     "data": {
      "text/plain": [
       "{'tvec__analyzer': 'word',\n",
       " 'tvec__decode_error': 'ignore',\n",
       " 'tvec__max_df': 0.2,\n",
       " 'tvec__max_features': 2250,\n",
       " 'tvec__min_df': 0,\n",
       " 'tvec__ngram_range': (1, 1),\n",
       " 'tvec__stop_words': 'english',\n",
       " 'tvec__strip_accents': 'ascii'}"
      ]
     },
     "execution_count": 221,
     "metadata": {},
     "output_type": "execute_result"
    }
   ],
   "source": [
    "mb_tvec_gs.best_params_"
   ]
  },
  {
   "cell_type": "code",
   "execution_count": 222,
   "metadata": {},
   "outputs": [
    {
     "data": {
      "text/plain": [
       "0.9806128830519074"
      ]
     },
     "execution_count": 222,
     "metadata": {},
     "output_type": "execute_result"
    }
   ],
   "source": [
    "# Train score\n",
    "mb_tvec_gs.score(X_train, y_train)"
   ]
  },
  {
   "cell_type": "code",
   "execution_count": 223,
   "metadata": {},
   "outputs": [
    {
     "data": {
      "text/plain": [
       "0.9250936329588015"
      ]
     },
     "execution_count": 223,
     "metadata": {},
     "output_type": "execute_result"
    }
   ],
   "source": [
    "# Test score\n",
    "mb_tvec_gs.score(X_test, y_test)"
   ]
  },
  {
   "cell_type": "markdown",
   "metadata": {},
   "source": [
    "Using TF-IDF, our multinomial Naive Bayes model gave us an accuracy score of .98 on our training set and .93 on our test set.  Although the model is overfit (indicating high variance), we are only concerned with the results of our test data set.  Again, we will be comparing the test accuracy scores of all our models at the end of this notebook."
   ]
  },
  {
   "cell_type": "markdown",
   "metadata": {},
   "source": [
    "## Logistic Regression (LR) Models <a class=\"anchor\" id=\"five-bullet\"></a>"
   ]
  },
  {
   "cell_type": "markdown",
   "metadata": {},
   "source": [
    "Logistic Regressions assumes that X1 - Xn are linearly realted to the log odds that y=1, that all of the errors are independent of one another, that the distribution of errors follows the Bernoulli distribution, adn that all of the independent variables are independent of one another.\n",
    "\n",
    "Like with our multinomial Naive Bayes model, we cannot say that that independent varaibles are independent of one another.  THe words in the post titles almost certainly have a relationship to one another.  However, we will disregard this and see how the model performs.  \n",
    "\n",
    "Like with MB Naive Bayes, we will test the model out using both CVEC and TF-IDF."
   ]
  },
  {
   "cell_type": "markdown",
   "metadata": {},
   "source": [
    "### Pipeline - CVEC + LR <a class=\"anchor\" id=\"six-bullet\"></a>"
   ]
  },
  {
   "cell_type": "code",
   "execution_count": 224,
   "metadata": {},
   "outputs": [],
   "source": [
    "lr_cvec_pipe = Pipeline([\n",
    "    ('cvec', CountVectorizer()), # or tvec\n",
    "    ('lr', LogisticRegression())\n",
    "    \n",
    "])"
   ]
  },
  {
   "cell_type": "code",
   "execution_count": 237,
   "metadata": {},
   "outputs": [
    {
     "name": "stderr",
     "output_type": "stream",
     "text": [
      "C:\\Users\\phill\\Anaconda3\\lib\\site-packages\\sklearn\\linear_model\\logistic.py:433: FutureWarning: Default solver will be changed to 'lbfgs' in 0.22. Specify a solver to silence this warning.\n",
      "  FutureWarning)\n",
      "C:\\Users\\phill\\Anaconda3\\lib\\site-packages\\sklearn\\svm\\base.py:931: ConvergenceWarning: Liblinear failed to converge, increase the number of iterations.\n",
      "  \"the number of iterations.\", ConvergenceWarning)\n"
     ]
    }
   ],
   "source": [
    "# Tune GridSearchCV\n",
    "lr_cvec_pipe_params = {\n",
    "    'cvec__stop_words' : [None, 'english'],\n",
    "    'cvec__decode_error' : ['ignore']  ,         \n",
    "    'cvec__strip_accents': ['ascii']  ,         \n",
    "    'cvec__analyzer':['word']       ,            \n",
    "    'cvec__max_features': [    1500, 1750, 2000], \n",
    "    'cvec__max_df' : [.1, .15, .2, .25],\n",
    "    'cvec__min_df' : [0, .05, .01],\n",
    "    'cvec__ngram_range' : [(1,1), (1, 2)],\n",
    "    'lr__penalty' : ['l1', 'l2']\n",
    "}\n",
    "lr_cvec_gs = GridSearchCV(lr_cvec_pipe, param_grid=lr_cvec_pipe_params, cv=3, n_jobs = 1)\n",
    "lr_cvec_gs.fit(X_train,y_train);"
   ]
  },
  {
   "cell_type": "code",
   "execution_count": 238,
   "metadata": {},
   "outputs": [
    {
     "data": {
      "text/plain": [
       "0.9043151969981238"
      ]
     },
     "execution_count": 238,
     "metadata": {},
     "output_type": "execute_result"
    }
   ],
   "source": [
    "lr_cvec_gs.best_score_"
   ]
  },
  {
   "cell_type": "code",
   "execution_count": 239,
   "metadata": {},
   "outputs": [
    {
     "data": {
      "text/plain": [
       "{'cvec__analyzer': 'word',\n",
       " 'cvec__decode_error': 'ignore',\n",
       " 'cvec__max_df': 0.25,\n",
       " 'cvec__max_features': 1750,\n",
       " 'cvec__min_df': 0,\n",
       " 'cvec__ngram_range': (1, 1),\n",
       " 'cvec__stop_words': None,\n",
       " 'cvec__strip_accents': 'ascii',\n",
       " 'lr__penalty': 'l2'}"
      ]
     },
     "execution_count": 239,
     "metadata": {},
     "output_type": "execute_result"
    }
   ],
   "source": [
    "lr_cvec_gs.best_params_"
   ]
  },
  {
   "cell_type": "code",
   "execution_count": 240,
   "metadata": {},
   "outputs": [
    {
     "data": {
      "text/plain": [
       "0.9856160100062539"
      ]
     },
     "execution_count": 240,
     "metadata": {},
     "output_type": "execute_result"
    }
   ],
   "source": [
    "# Train score\n",
    "lr_cvec_gs.score(X_train, y_train)"
   ]
  },
  {
   "cell_type": "code",
   "execution_count": 241,
   "metadata": {},
   "outputs": [
    {
     "data": {
      "text/plain": [
       "0.900749063670412"
      ]
     },
     "execution_count": 241,
     "metadata": {},
     "output_type": "execute_result"
    }
   ],
   "source": [
    "# Test score\n",
    "lr_cvec_gs.score(X_test, y_test)"
   ]
  },
  {
   "cell_type": "markdown",
   "metadata": {},
   "source": [
    "Our LR model using CVEC gave us a training set accuracy of .99 and a test accuracy of .90."
   ]
  },
  {
   "cell_type": "markdown",
   "metadata": {},
   "source": [
    "### Pipeline - TF IDF + LR <a class=\"anchor\" id=\"seven-bullet\"></a>"
   ]
  },
  {
   "cell_type": "code",
   "execution_count": 242,
   "metadata": {},
   "outputs": [],
   "source": [
    "lr_tfidf_pipe = Pipeline([\n",
    "    ('tvec',TfidfVectorizer()),\n",
    "    ('lr', LogisticRegression())\n",
    "    \n",
    "])"
   ]
  },
  {
   "cell_type": "code",
   "execution_count": 271,
   "metadata": {},
   "outputs": [
    {
     "name": "stderr",
     "output_type": "stream",
     "text": [
      "C:\\Users\\phill\\Anaconda3\\lib\\site-packages\\sklearn\\linear_model\\logistic.py:433: FutureWarning: Default solver will be changed to 'lbfgs' in 0.22. Specify a solver to silence this warning.\n",
      "  FutureWarning)\n"
     ]
    }
   ],
   "source": [
    "# Tune GridSearchCV\n",
    "lr_tfidf_pipe_params = {\n",
    "    'tvec__stop_words' : [None, 'english'],\n",
    "    'tvec__decode_error' : ['ignore']  ,         \n",
    "    'tvec__strip_accents': ['ascii']  ,          \n",
    "    'tvec__analyzer':['word']       ,            \n",
    "    'tvec__max_features': [    2000, 2250, 2500], \n",
    "    'tvec__max_df' : [.1, .15, .2, .25],\n",
    "    'tvec__min_df' : [0, .05, .01],\n",
    "    'tvec__ngram_range' : [(1,1), (1, 2)],\n",
    "    'lr__penalty' : ['l1', 'l2']\n",
    "\n",
    "}\n",
    "lr_tfidf_gs = GridSearchCV(lr_tfidf_pipe, param_grid=lr_tfidf_pipe_params, cv=3, n_jobs=-1)\n",
    "lr_tfidf_gs.fit(X_train,y_train);"
   ]
  },
  {
   "cell_type": "code",
   "execution_count": 272,
   "metadata": {},
   "outputs": [
    {
     "data": {
      "text/plain": [
       "0.9155722326454033"
      ]
     },
     "execution_count": 272,
     "metadata": {},
     "output_type": "execute_result"
    }
   ],
   "source": [
    "lr_tfidf_gs.best_score_"
   ]
  },
  {
   "cell_type": "code",
   "execution_count": 273,
   "metadata": {},
   "outputs": [
    {
     "data": {
      "text/plain": [
       "{'lr__penalty': 'l2',\n",
       " 'tvec__analyzer': 'word',\n",
       " 'tvec__decode_error': 'ignore',\n",
       " 'tvec__max_df': 0.2,\n",
       " 'tvec__max_features': 2250,\n",
       " 'tvec__min_df': 0,\n",
       " 'tvec__ngram_range': (1, 1),\n",
       " 'tvec__stop_words': 'english',\n",
       " 'tvec__strip_accents': 'ascii'}"
      ]
     },
     "execution_count": 273,
     "metadata": {},
     "output_type": "execute_result"
    }
   ],
   "source": [
    "lr_tfidf_gs.best_params_"
   ]
  },
  {
   "cell_type": "code",
   "execution_count": 274,
   "metadata": {},
   "outputs": [
    {
     "data": {
      "text/plain": [
       "0.9831144465290806"
      ]
     },
     "execution_count": 274,
     "metadata": {},
     "output_type": "execute_result"
    }
   ],
   "source": [
    "# Train score\n",
    "lr_tfidf_gs.score(X_train, y_train)"
   ]
  },
  {
   "cell_type": "code",
   "execution_count": 275,
   "metadata": {},
   "outputs": [
    {
     "data": {
      "text/plain": [
       "0.9288389513108615"
      ]
     },
     "execution_count": 275,
     "metadata": {},
     "output_type": "execute_result"
    }
   ],
   "source": [
    "# Test score\n",
    "lr_tfidf_gs.score(X_test, y_test)"
   ]
  },
  {
   "cell_type": "markdown",
   "metadata": {},
   "source": [
    "Our LR model using TF-IDF gave us a training accuracy of .98 and a test accuracy of .93."
   ]
  },
  {
   "cell_type": "markdown",
   "metadata": {},
   "source": [
    "## Random Forest (RF) Models <a class=\"anchor\" id=\"eight-bullet\"></a>"
   ]
  },
  {
   "cell_type": "markdown",
   "metadata": {},
   "source": [
    "Next, we will test out the random forest model.  Random forest takes a classic decision tree, and adds in bootstrapping (sampling of X rows with replacement) and randomized feature selection.  Based on the 'n_features' hyperparameter we will set in the GridSearch, we will create multiple trees.  Using the 'max_depth' hyperparameter, we will set the number of features that will be considered in our trees.  Random forest models generally have lower variance than either classic decision trees or bagged decision trees.  Since we saw high variance in our Naive Bayes and logistic regression models, a random forest model may be a good option for our data."
   ]
  },
  {
   "cell_type": "markdown",
   "metadata": {},
   "source": [
    "### Pipeline - CVEC  + RF  <a class=\"anchor\" id=\"nine-bullet\"></a>"
   ]
  },
  {
   "cell_type": "code",
   "execution_count": 276,
   "metadata": {},
   "outputs": [],
   "source": [
    "rf_cvec_pipe = Pipeline([\n",
    "    ('cvec', CountVectorizer()), # or tvec\n",
    "    ('rf', RandomForestClassifier())\n",
    "    \n",
    "])"
   ]
  },
  {
   "cell_type": "code",
   "execution_count": 288,
   "metadata": {},
   "outputs": [
    {
     "name": "stdout",
     "output_type": "stream",
     "text": [
      "Wall time: 3min 20s\n"
     ]
    }
   ],
   "source": [
    "%%time\n",
    "# Tune GridSearchCV\n",
    "rf_cvec_pipe_params = {\n",
    "    'cvec__stop_words' : [None, 'english'],\n",
    "    'cvec__decode_error' : ['ignore']  ,         \n",
    "    'cvec__strip_accents': ['ascii']  ,         \n",
    "    'cvec__analyzer':['word']       ,           \n",
    "    'cvec__max_features': [   1250, 1400, 1500], \n",
    "    'cvec__max_df' : [.2,  .25, .3], \n",
    "    'cvec__min_df' : [0, .05, .01],\n",
    "    'cvec__ngram_range' : [(1,1), (1, 2)],\n",
    "    'rf__n_estimators': [30, 40, 50], \n",
    "    'rf__max_depth': [  200, 225, 250] \n",
    "}\n",
    "rf_cvec_gs = GridSearchCV(rf_cvec_pipe, param_grid=rf_cvec_pipe_params, cv=3, n_jobs=-1)\n",
    "rf_cvec_gs.fit(X_train,y_train);"
   ]
  },
  {
   "cell_type": "code",
   "execution_count": 289,
   "metadata": {},
   "outputs": [
    {
     "data": {
      "text/plain": [
       "0.9036898061288305"
      ]
     },
     "execution_count": 289,
     "metadata": {},
     "output_type": "execute_result"
    }
   ],
   "source": [
    "rf_cvec_gs.best_score_"
   ]
  },
  {
   "cell_type": "code",
   "execution_count": 290,
   "metadata": {},
   "outputs": [
    {
     "data": {
      "text/plain": [
       "{'cvec__analyzer': 'word',\n",
       " 'cvec__decode_error': 'ignore',\n",
       " 'cvec__max_df': 0.2,\n",
       " 'cvec__max_features': 1250,\n",
       " 'cvec__min_df': 0,\n",
       " 'cvec__ngram_range': (1, 1),\n",
       " 'cvec__stop_words': 'english',\n",
       " 'cvec__strip_accents': 'ascii',\n",
       " 'rf__max_depth': 225,\n",
       " 'rf__n_estimators': 40}"
      ]
     },
     "execution_count": 290,
     "metadata": {},
     "output_type": "execute_result"
    }
   ],
   "source": [
    "rf_cvec_gs.best_params_"
   ]
  },
  {
   "cell_type": "code",
   "execution_count": 291,
   "metadata": {},
   "outputs": [
    {
     "data": {
      "text/plain": [
       "0.991869918699187"
      ]
     },
     "execution_count": 291,
     "metadata": {},
     "output_type": "execute_result"
    }
   ],
   "source": [
    "# Train score\n",
    "rf_cvec_gs.score(X_train, y_train)"
   ]
  },
  {
   "cell_type": "code",
   "execution_count": 292,
   "metadata": {},
   "outputs": [
    {
     "data": {
      "text/plain": [
       "0.8820224719101124"
      ]
     },
     "execution_count": 292,
     "metadata": {},
     "output_type": "execute_result"
    }
   ],
   "source": [
    "# Test score\n",
    "rf_cvec_gs.score(X_test, y_test)"
   ]
  },
  {
   "cell_type": "markdown",
   "metadata": {},
   "source": [
    "Our random forest model using CVEC gave us a training accuracy of .99 and a test accuracy of .88."
   ]
  },
  {
   "cell_type": "markdown",
   "metadata": {},
   "source": [
    "### Pipeline - TFIDF  + RF <a class=\"anchor\" id=\"ten-bullet\"></a>"
   ]
  },
  {
   "cell_type": "code",
   "execution_count": 293,
   "metadata": {},
   "outputs": [],
   "source": [
    "rf_tfidf_pipe = Pipeline([\n",
    "    ('tvec', TfidfVectorizer()), \n",
    "    ('rf', RandomForestClassifier())\n",
    "    \n",
    "])"
   ]
  },
  {
   "cell_type": "code",
   "execution_count": 299,
   "metadata": {},
   "outputs": [
    {
     "name": "stdout",
     "output_type": "stream",
     "text": [
      "Wall time: 3min 22s\n"
     ]
    }
   ],
   "source": [
    "%%time\n",
    "# Tune GridSearchCV\n",
    "rf_tfidf_pipe_params = {\n",
    "    'tvec__stop_words' : [None, 'english'],\n",
    "    'tvec__decode_error' : ['ignore']  ,         \n",
    "    'tvec__strip_accents': ['ascii']  ,          \n",
    "    'tvec__analyzer':['word']       ,            \n",
    "    'tvec__max_features': [  1250, 1350, 1500], \n",
    "    'tvec__max_df' : [.15, .20, .25, .3], \n",
    "    'tvec__min_df' : [0], \n",
    "    'tvec__ngram_range' : [(1,1)], \n",
    "    'rf__n_estimators': [ 75, 100, 125], \n",
    "    'rf__max_depth': [ 200, 225, 250] \n",
    "}\n",
    "rf_tfidf_gs = GridSearchCV(rf_tfidf_pipe, param_grid=rf_tfidf_pipe_params, cv=3)\n",
    "rf_tfidf_gs.fit(X_train,y_train);"
   ]
  },
  {
   "cell_type": "code",
   "execution_count": 300,
   "metadata": {},
   "outputs": [
    {
     "data": {
      "text/plain": [
       "{'rf__max_depth': 225,\n",
       " 'rf__n_estimators': 75,\n",
       " 'tvec__analyzer': 'word',\n",
       " 'tvec__decode_error': 'ignore',\n",
       " 'tvec__max_df': 0.3,\n",
       " 'tvec__max_features': 1350,\n",
       " 'tvec__min_df': 0,\n",
       " 'tvec__ngram_range': (1, 1),\n",
       " 'tvec__stop_words': 'english',\n",
       " 'tvec__strip_accents': 'ascii'}"
      ]
     },
     "execution_count": 300,
     "metadata": {},
     "output_type": "execute_result"
    }
   ],
   "source": [
    "rf_tfidf_gs.best_params_"
   ]
  },
  {
   "cell_type": "code",
   "execution_count": 301,
   "metadata": {},
   "outputs": [
    {
     "data": {
      "text/plain": [
       "0.9049405878674172"
      ]
     },
     "execution_count": 301,
     "metadata": {},
     "output_type": "execute_result"
    }
   ],
   "source": [
    "rf_tfidf_gs.best_score_"
   ]
  },
  {
   "cell_type": "code",
   "execution_count": 302,
   "metadata": {},
   "outputs": [
    {
     "data": {
      "text/plain": [
       "0.9912445278298937"
      ]
     },
     "execution_count": 302,
     "metadata": {},
     "output_type": "execute_result"
    }
   ],
   "source": [
    "# Train score\n",
    "rf_tfidf_gs.score(X_train, y_train)"
   ]
  },
  {
   "cell_type": "code",
   "execution_count": 303,
   "metadata": {},
   "outputs": [
    {
     "data": {
      "text/plain": [
       "0.8913857677902621"
      ]
     },
     "execution_count": 303,
     "metadata": {},
     "output_type": "execute_result"
    }
   ],
   "source": [
    "# Test score\n",
    "rf_tfidf_gs.score(X_test, y_test)"
   ]
  },
  {
   "cell_type": "markdown",
   "metadata": {},
   "source": [
    "Our random forest model using TF-IDF gave us a training accuracy score of .99 and a test accuracy of .89.  Like with CVEC, this model is overfit, and we will compare the results to the rest of the models we run."
   ]
  },
  {
   "cell_type": "markdown",
   "metadata": {},
   "source": [
    "## Tuning AdaBoost Classifier <a class=\"anchor\" id=\"eleven-bullet\"></a>"
   ]
  },
  {
   "cell_type": "markdown",
   "metadata": {},
   "source": [
    "The AdaBoost classifier will first fit our data to the DecisionTree classifier, and then fit more copies of the tree, giving higher weights to the cases that were incorrectly classified in earlier runs.  This should give us a model that performs more accurately on the test data (unseen).\n",
    "\n",
    "In addition to setting the hyperparameters that we set in earlier models, we will also enter values for the number of estimators we want to use, how many levels our tree can contain, and the n_learning_rate (how much each classifier contributes)."
   ]
  },
  {
   "cell_type": "markdown",
   "metadata": {},
   "source": [
    "### CVEC + Tuning AdaBoostClassifier <a class=\"anchor\" id=\"twelve-bullet\"></a>"
   ]
  },
  {
   "cell_type": "code",
   "execution_count": 304,
   "metadata": {},
   "outputs": [],
   "source": [
    "ada_cvec_pipe = Pipeline([\n",
    "    ('cvec', CountVectorizer()), # or tvec\n",
    "    ('ada', AdaBoostClassifier(base_estimator=DecisionTreeClassifier()))\n",
    "    \n",
    "])"
   ]
  },
  {
   "cell_type": "code",
   "execution_count": 320,
   "metadata": {},
   "outputs": [
    {
     "name": "stdout",
     "output_type": "stream",
     "text": [
      "Wall time: 9min 54s\n"
     ]
    }
   ],
   "source": [
    "%%time\n",
    "# Tune GridSearchCV\n",
    "ada_cvec_pipe_params = {\n",
    "    'cvec__stop_words' : [None, 'english'],\n",
    "    'cvec__decode_error' : ['ignore']  ,         \n",
    "    'cvec__strip_accents': ['ascii']  ,          \n",
    "    'cvec__analyzer':['word']       ,           \n",
    "    'cvec__max_features': [ 1000,  1250, 1350], \n",
    "    'cvec__max_df' : [.15, .20, .25,], \n",
    "    'cvec__min_df' : [0, .025], \n",
    "    'cvec__ngram_range' : [(1,1), (1,2)], \n",
    "    'ada__n_estimators': [50, 60, 75], \n",
    "    'ada__base_estimator__max_depth': [   275, 300, 325], \n",
    "    'ada__learning_rate' : [.6, .7, .8] \n",
    "}\n",
    "ada_cvec_gs = GridSearchCV(ada_cvec_pipe, param_grid=ada_cvec_pipe_params, cv=3, n_jobs=-1)\n",
    "ada_cvec_gs.fit(X_train,y_train);"
   ]
  },
  {
   "cell_type": "code",
   "execution_count": 321,
   "metadata": {},
   "outputs": [
    {
     "data": {
      "text/plain": [
       "{'ada__base_estimator__max_depth': 275,\n",
       " 'ada__learning_rate': 0.6,\n",
       " 'ada__n_estimators': 60,\n",
       " 'cvec__analyzer': 'word',\n",
       " 'cvec__decode_error': 'ignore',\n",
       " 'cvec__max_df': 0.25,\n",
       " 'cvec__max_features': 1250,\n",
       " 'cvec__min_df': 0,\n",
       " 'cvec__ngram_range': (1, 1),\n",
       " 'cvec__stop_words': 'english',\n",
       " 'cvec__strip_accents': 'ascii'}"
      ]
     },
     "execution_count": 321,
     "metadata": {},
     "output_type": "execute_result"
    }
   ],
   "source": [
    "ada_cvec_gs.best_params_"
   ]
  },
  {
   "cell_type": "code",
   "execution_count": 322,
   "metadata": {},
   "outputs": [
    {
     "data": {
      "text/plain": [
       "0.8949343339587242"
      ]
     },
     "execution_count": 322,
     "metadata": {},
     "output_type": "execute_result"
    }
   ],
   "source": [
    "ada_cvec_gs.best_score_"
   ]
  },
  {
   "cell_type": "code",
   "execution_count": 323,
   "metadata": {},
   "outputs": [
    {
     "data": {
      "text/plain": [
       "0.991869918699187"
      ]
     },
     "execution_count": 323,
     "metadata": {},
     "output_type": "execute_result"
    }
   ],
   "source": [
    "# Train score\n",
    "ada_cvec_gs.score(X_train, y_train)"
   ]
  },
  {
   "cell_type": "code",
   "execution_count": 324,
   "metadata": {},
   "outputs": [
    {
     "data": {
      "text/plain": [
       "0.8745318352059925"
      ]
     },
     "execution_count": 324,
     "metadata": {},
     "output_type": "execute_result"
    }
   ],
   "source": [
    "# Test score\n",
    "ada_cvec_gs.score(X_test, y_test)"
   ]
  },
  {
   "cell_type": "markdown",
   "metadata": {},
   "source": [
    "Using CVEC, our AdaBoost model gave us a training score of .99 and a test accuracy of .87."
   ]
  },
  {
   "cell_type": "markdown",
   "metadata": {},
   "source": [
    "### TVEC + Tuning AdaBoostClassifier <a class=\"anchor\" id=\"thirteen-bullet\"></a>"
   ]
  },
  {
   "cell_type": "code",
   "execution_count": 325,
   "metadata": {},
   "outputs": [],
   "source": [
    "ada_tvec_pipe = Pipeline([\n",
    "    ('tvec', TfidfVectorizer()), # or tvec\n",
    "    ('ada', AdaBoostClassifier(base_estimator=DecisionTreeClassifier()))\n",
    "    \n",
    "])"
   ]
  },
  {
   "cell_type": "code",
   "execution_count": 332,
   "metadata": {},
   "outputs": [
    {
     "name": "stdout",
     "output_type": "stream",
     "text": [
      "Wall time: 6min 32s\n"
     ]
    }
   ],
   "source": [
    "%%time\n",
    "# Tune GridSearchCV\n",
    "ada_tvec_pipe_params = {\n",
    "    'tvec__stop_words' : [None, 'english'],\n",
    "    'tvec__decode_error' : ['ignore']  ,         \n",
    "    'tvec__strip_accents': ['ascii']  ,          \n",
    "    'tvec__analyzer':['word']       ,           \n",
    "    'tvec__max_features': [  1250], \n",
    "    'tvec__max_df' : [  .20, .25, .275], \n",
    "    'tvec__min_df' : [0, .025], \n",
    "    'tvec__ngram_range' : [(1,1)], \n",
    "    'ada__n_estimators': [  120, 130, 150], \n",
    "    'ada__base_estimator__max_depth': [  290, 310, 320], \n",
    "    'ada__learning_rate' : [.75, .8,  .9] \n",
    "}\n",
    "ada_tvec_gs = GridSearchCV(ada_tvec_pipe, param_grid=ada_tvec_pipe_params, cv=3, n_jobs=-1)\n",
    "ada_tvec_gs.fit(X_train,y_train);"
   ]
  },
  {
   "cell_type": "code",
   "execution_count": 333,
   "metadata": {},
   "outputs": [
    {
     "data": {
      "text/plain": [
       "{'ada__base_estimator__max_depth': 290,\n",
       " 'ada__learning_rate': 0.9,\n",
       " 'ada__n_estimators': 130,\n",
       " 'tvec__analyzer': 'word',\n",
       " 'tvec__decode_error': 'ignore',\n",
       " 'tvec__max_df': 0.25,\n",
       " 'tvec__max_features': 1250,\n",
       " 'tvec__min_df': 0,\n",
       " 'tvec__ngram_range': (1, 1),\n",
       " 'tvec__stop_words': 'english',\n",
       " 'tvec__strip_accents': 'ascii'}"
      ]
     },
     "execution_count": 333,
     "metadata": {},
     "output_type": "execute_result"
    }
   ],
   "source": [
    "ada_tvec_gs.best_params_"
   ]
  },
  {
   "cell_type": "code",
   "execution_count": 334,
   "metadata": {},
   "outputs": [
    {
     "data": {
      "text/plain": [
       "0.8849280800500313"
      ]
     },
     "execution_count": 334,
     "metadata": {},
     "output_type": "execute_result"
    }
   ],
   "source": [
    "ada_tvec_gs.best_score_"
   ]
  },
  {
   "cell_type": "code",
   "execution_count": 335,
   "metadata": {},
   "outputs": [
    {
     "data": {
      "text/plain": [
       "0.991869918699187"
      ]
     },
     "execution_count": 335,
     "metadata": {},
     "output_type": "execute_result"
    }
   ],
   "source": [
    "# Train score\n",
    "ada_tvec_gs.score(X_train, y_train)"
   ]
  },
  {
   "cell_type": "code",
   "execution_count": 336,
   "metadata": {},
   "outputs": [
    {
     "data": {
      "text/plain": [
       "0.8726591760299626"
      ]
     },
     "execution_count": 336,
     "metadata": {},
     "output_type": "execute_result"
    }
   ],
   "source": [
    "# Test score\n",
    "ada_tvec_gs.score(X_test, y_test)"
   ]
  },
  {
   "cell_type": "markdown",
   "metadata": {},
   "source": [
    "Using TF-IDF, our AdaBoost model gave us a training accuracy of .99 and a test accuracy of .87."
   ]
  },
  {
   "cell_type": "markdown",
   "metadata": {},
   "source": [
    "## Voting Classifier <a class=\"anchor\" id=\"fourteen-bullet\"></a>"
   ]
  },
  {
   "cell_type": "markdown",
   "metadata": {},
   "source": [
    "Using voting classifier to vote between MultiNomial NB, Linear Regression, and RF (the three models that gave us the highest test accutracy).  This will run the three models that we enter, compare the classifications, and vote on the winner.  If two models indicate that a post is canoeing and one indicates that it is table tennis, than the result will be that we classify the post as canoeing.\n",
    "\n",
    "Because TF-IDF performed the best (highest test accuracy) for the three models that we are using in the voting classifier, we will only use TF-IDF here."
   ]
  },
  {
   "cell_type": "code",
   "execution_count": 426,
   "metadata": {},
   "outputs": [],
   "source": [
    "# run data through tf-idf\n",
    "tvec = TfidfVectorizer(decode_error='ignore', max_df=0.25,max_features=1250, min_df=0, ngram_range=(1,1), stop_words='english' )\n",
    "X_train_vote = tvec.fit_transform(X_train)"
   ]
  },
  {
   "cell_type": "code",
   "execution_count": 427,
   "metadata": {},
   "outputs": [],
   "source": [
    "#tvec = TfidfVectorizer()\n",
    "X_test_vote = tvec.transform(X_test)"
   ]
  },
  {
   "cell_type": "code",
   "execution_count": 428,
   "metadata": {},
   "outputs": [],
   "source": [
    "vote = VotingClassifier([\n",
    "    ('mb', MultinomialNB()),\n",
    "    ('lr', LogisticRegression()),\n",
    "    ('rf', RandomForestClassifier())\n",
    "])"
   ]
  },
  {
   "cell_type": "code",
   "execution_count": 429,
   "metadata": {},
   "outputs": [],
   "source": [
    "vote_params = {\n",
    "    'lr__penalty' : ['l1', 'l2'],\n",
    "    'rf__n_estimators': [  100, 125, 150], \n",
    "    'rf__max_depth': [ 200, 225, 250]\n",
    "}\n",
    "gs = GridSearchCV(vote, param_grid=vote_params, cv=3, n_jobs=-1)"
   ]
  },
  {
   "cell_type": "code",
   "execution_count": 430,
   "metadata": {},
   "outputs": [
    {
     "data": {
      "text/plain": [
       "GridSearchCV(cv=3, error_score='raise-deprecating',\n",
       "       estimator=VotingClassifier(estimators=[('mb', MultinomialNB(alpha=1.0, class_prior=None, fit_prior=True)), ('lr', LogisticRegression(C=1.0, class_weight=None, dual=False, fit_intercept=True,\n",
       "          intercept_scaling=1, max_iter=100, multi_class='warn',\n",
       "          n_jobs=None, penalty='l2', random_...     warm_start=False))],\n",
       "         flatten_transform=None, n_jobs=None, voting='hard', weights=None),\n",
       "       fit_params=None, iid='warn', n_jobs=-1,\n",
       "       param_grid={'lr__penalty': ['l1', 'l2'], 'rf__n_estimators': [100, 125, 150], 'rf__max_depth': [200, 225, 250]},\n",
       "       pre_dispatch='2*n_jobs', refit=True, return_train_score='warn',\n",
       "       scoring=None, verbose=0)"
      ]
     },
     "execution_count": 430,
     "metadata": {},
     "output_type": "execute_result"
    }
   ],
   "source": [
    "gs.fit(X_train_vote, y_train)"
   ]
  },
  {
   "cell_type": "code",
   "execution_count": 431,
   "metadata": {},
   "outputs": [
    {
     "data": {
      "text/plain": [
       "{'lr__penalty': 'l2', 'rf__max_depth': 250, 'rf__n_estimators': 125}"
      ]
     },
     "execution_count": 431,
     "metadata": {},
     "output_type": "execute_result"
    }
   ],
   "source": [
    "gs.best_params_"
   ]
  },
  {
   "cell_type": "code",
   "execution_count": 432,
   "metadata": {},
   "outputs": [
    {
     "data": {
      "text/plain": [
       "0.9768605378361476"
      ]
     },
     "execution_count": 432,
     "metadata": {},
     "output_type": "execute_result"
    }
   ],
   "source": [
    "# Train score\n",
    "gs.score(X_train_vote, y_train)"
   ]
  },
  {
   "cell_type": "code",
   "execution_count": 433,
   "metadata": {},
   "outputs": [
    {
     "data": {
      "text/plain": [
       "0.9213483146067416"
      ]
     },
     "execution_count": 433,
     "metadata": {},
     "output_type": "execute_result"
    }
   ],
   "source": [
    "# Test score\n",
    "gs.score(X_test_vote, y_test)"
   ]
  },
  {
   "cell_type": "markdown",
   "metadata": {},
   "source": [
    "Our voting classifier gave us a test accuracy of .92.  This will be compared to the rest of the models to determine which performed the best."
   ]
  },
  {
   "cell_type": "markdown",
   "metadata": {},
   "source": [
    "## Evaluation Metrics <a class=\"anchor\" id=\"fifteen-bullet\"></a>"
   ]
  },
  {
   "cell_type": "markdown",
   "metadata": {},
   "source": [
    "Now that we have run all of our models, we can formally compare them.  We will create a function that will take in the models that we ran above and create the predictions for the model.  Next, it will calculate all of the metrics needed for the confusion matrix (true negatives, false positives, false negatives, and false positives).  Finally, it will calculate the accuracy and append this to a DataFrame.\n",
    "\n",
    "Even though we are not using the other metrics (we are only looking at accuracy), we will still create confusion matrices to examine our results."
   ]
  },
  {
   "cell_type": "code",
   "execution_count": 434,
   "metadata": {},
   "outputs": [],
   "source": [
    "# Import confusion matrix.\n",
    "from sklearn.metrics import confusion_matrix"
   ]
  },
  {
   "cell_type": "code",
   "execution_count": 751,
   "metadata": {},
   "outputs": [],
   "source": [
    "metrics = []"
   ]
  },
  {
   "cell_type": "code",
   "execution_count": 752,
   "metadata": {},
   "outputs": [],
   "source": [
    "def eval_metrics(model_name,  name_for_df):\n",
    "    pred = model_name.predict(X_test)\n",
    "    conf = confusion_matrix( y_test,# True values.\n",
    "                      pred)# Predicted values.\n",
    "    tn, fp, fn, tp = conf.ravel()\n",
    "    \n",
    "\n",
    "    spec = tn / (tn + fp)\n",
    "    print(f'Specificity: {round(spec,4)}')\n",
    "\n",
    "    sens = tp / (tp + fn)\n",
    "    print(f'Sensitivity: {round(sens,4)}')\n",
    "\n",
    "    acc = (tp + tn) / (tp + fp + fn + tn)\n",
    "    print(f'Accuracy: {round(acc,4)}')\n",
    "    metrics.append([name_for_df,  acc])\n",
    "    print(metrics)\n",
    "    df= pd.DataFrame(conf, index =  ['actual canoe', 'actual tennis'], columns = ['predicted canoe', 'predicted tennis'])\n",
    "    return df\n"
   ]
  },
  {
   "cell_type": "markdown",
   "metadata": {},
   "source": [
    "### Multinomial Naive Bayes with CVEC"
   ]
  },
  {
   "cell_type": "code",
   "execution_count": 753,
   "metadata": {},
   "outputs": [
    {
     "name": "stdout",
     "output_type": "stream",
     "text": [
      "Specificity: 0.9478\n",
      "Sensitivity: 0.8459\n",
      "Accuracy: 0.897\n",
      "[['MB CVEC', 0.897003745318352]]\n"
     ]
    },
    {
     "data": {
      "text/html": [
       "<div>\n",
       "<style scoped>\n",
       "    .dataframe tbody tr th:only-of-type {\n",
       "        vertical-align: middle;\n",
       "    }\n",
       "\n",
       "    .dataframe tbody tr th {\n",
       "        vertical-align: top;\n",
       "    }\n",
       "\n",
       "    .dataframe thead th {\n",
       "        text-align: right;\n",
       "    }\n",
       "</style>\n",
       "<table border=\"1\" class=\"dataframe\">\n",
       "  <thead>\n",
       "    <tr style=\"text-align: right;\">\n",
       "      <th></th>\n",
       "      <th>predicted canoe</th>\n",
       "      <th>predicted tennis</th>\n",
       "    </tr>\n",
       "  </thead>\n",
       "  <tbody>\n",
       "    <tr>\n",
       "      <th>actual canoe</th>\n",
       "      <td>254</td>\n",
       "      <td>14</td>\n",
       "    </tr>\n",
       "    <tr>\n",
       "      <th>actual tennis</th>\n",
       "      <td>41</td>\n",
       "      <td>225</td>\n",
       "    </tr>\n",
       "  </tbody>\n",
       "</table>\n",
       "</div>"
      ],
      "text/plain": [
       "               predicted canoe  predicted tennis\n",
       "actual canoe               254                14\n",
       "actual tennis               41               225"
      ]
     },
     "execution_count": 753,
     "metadata": {},
     "output_type": "execute_result"
    }
   ],
   "source": [
    "eval_metrics(mb_cvec_gs,  'MB CVEC')"
   ]
  },
  {
   "cell_type": "markdown",
   "metadata": {},
   "source": [
    "### Multinomial Naive bayes with TF-IDF"
   ]
  },
  {
   "cell_type": "code",
   "execution_count": 754,
   "metadata": {},
   "outputs": [
    {
     "name": "stdout",
     "output_type": "stream",
     "text": [
      "Specificity: 0.9403\n",
      "Sensitivity: 0.9098\n",
      "Accuracy: 0.9251\n",
      "[['MB CVEC', 0.897003745318352], ['MB TVEC', 0.9250936329588015]]\n"
     ]
    },
    {
     "data": {
      "text/html": [
       "<div>\n",
       "<style scoped>\n",
       "    .dataframe tbody tr th:only-of-type {\n",
       "        vertical-align: middle;\n",
       "    }\n",
       "\n",
       "    .dataframe tbody tr th {\n",
       "        vertical-align: top;\n",
       "    }\n",
       "\n",
       "    .dataframe thead th {\n",
       "        text-align: right;\n",
       "    }\n",
       "</style>\n",
       "<table border=\"1\" class=\"dataframe\">\n",
       "  <thead>\n",
       "    <tr style=\"text-align: right;\">\n",
       "      <th></th>\n",
       "      <th>predicted canoe</th>\n",
       "      <th>predicted tennis</th>\n",
       "    </tr>\n",
       "  </thead>\n",
       "  <tbody>\n",
       "    <tr>\n",
       "      <th>actual canoe</th>\n",
       "      <td>252</td>\n",
       "      <td>16</td>\n",
       "    </tr>\n",
       "    <tr>\n",
       "      <th>actual tennis</th>\n",
       "      <td>24</td>\n",
       "      <td>242</td>\n",
       "    </tr>\n",
       "  </tbody>\n",
       "</table>\n",
       "</div>"
      ],
      "text/plain": [
       "               predicted canoe  predicted tennis\n",
       "actual canoe               252                16\n",
       "actual tennis               24               242"
      ]
     },
     "execution_count": 754,
     "metadata": {},
     "output_type": "execute_result"
    }
   ],
   "source": [
    "eval_metrics(mb_tvec_gs,  'MB TVEC')"
   ]
  },
  {
   "cell_type": "markdown",
   "metadata": {},
   "source": [
    "### Logistic regression with CVEC"
   ]
  },
  {
   "cell_type": "code",
   "execution_count": 755,
   "metadata": {},
   "outputs": [
    {
     "name": "stdout",
     "output_type": "stream",
     "text": [
      "Specificity: 0.8657\n",
      "Sensitivity: 0.9361\n",
      "Accuracy: 0.9007\n",
      "[['MB CVEC', 0.897003745318352], ['MB TVEC', 0.9250936329588015], ['LR CVEC', 0.900749063670412]]\n"
     ]
    },
    {
     "data": {
      "text/html": [
       "<div>\n",
       "<style scoped>\n",
       "    .dataframe tbody tr th:only-of-type {\n",
       "        vertical-align: middle;\n",
       "    }\n",
       "\n",
       "    .dataframe tbody tr th {\n",
       "        vertical-align: top;\n",
       "    }\n",
       "\n",
       "    .dataframe thead th {\n",
       "        text-align: right;\n",
       "    }\n",
       "</style>\n",
       "<table border=\"1\" class=\"dataframe\">\n",
       "  <thead>\n",
       "    <tr style=\"text-align: right;\">\n",
       "      <th></th>\n",
       "      <th>predicted canoe</th>\n",
       "      <th>predicted tennis</th>\n",
       "    </tr>\n",
       "  </thead>\n",
       "  <tbody>\n",
       "    <tr>\n",
       "      <th>actual canoe</th>\n",
       "      <td>232</td>\n",
       "      <td>36</td>\n",
       "    </tr>\n",
       "    <tr>\n",
       "      <th>actual tennis</th>\n",
       "      <td>17</td>\n",
       "      <td>249</td>\n",
       "    </tr>\n",
       "  </tbody>\n",
       "</table>\n",
       "</div>"
      ],
      "text/plain": [
       "               predicted canoe  predicted tennis\n",
       "actual canoe               232                36\n",
       "actual tennis               17               249"
      ]
     },
     "execution_count": 755,
     "metadata": {},
     "output_type": "execute_result"
    }
   ],
   "source": [
    "eval_metrics(lr_cvec_gs, 'LR CVEC')"
   ]
  },
  {
   "cell_type": "markdown",
   "metadata": {},
   "source": [
    "### Logistic regression with TF-IDF"
   ]
  },
  {
   "cell_type": "code",
   "execution_count": 756,
   "metadata": {
    "scrolled": true
   },
   "outputs": [
    {
     "name": "stdout",
     "output_type": "stream",
     "text": [
      "Specificity: 0.8993\n",
      "Sensitivity: 0.9586\n",
      "Accuracy: 0.9288\n",
      "[['MB CVEC', 0.897003745318352], ['MB TVEC', 0.9250936329588015], ['LR CVEC', 0.900749063670412], ['LR TVEC', 0.9288389513108615]]\n"
     ]
    },
    {
     "data": {
      "text/html": [
       "<div>\n",
       "<style scoped>\n",
       "    .dataframe tbody tr th:only-of-type {\n",
       "        vertical-align: middle;\n",
       "    }\n",
       "\n",
       "    .dataframe tbody tr th {\n",
       "        vertical-align: top;\n",
       "    }\n",
       "\n",
       "    .dataframe thead th {\n",
       "        text-align: right;\n",
       "    }\n",
       "</style>\n",
       "<table border=\"1\" class=\"dataframe\">\n",
       "  <thead>\n",
       "    <tr style=\"text-align: right;\">\n",
       "      <th></th>\n",
       "      <th>predicted canoe</th>\n",
       "      <th>predicted tennis</th>\n",
       "    </tr>\n",
       "  </thead>\n",
       "  <tbody>\n",
       "    <tr>\n",
       "      <th>actual canoe</th>\n",
       "      <td>241</td>\n",
       "      <td>27</td>\n",
       "    </tr>\n",
       "    <tr>\n",
       "      <th>actual tennis</th>\n",
       "      <td>11</td>\n",
       "      <td>255</td>\n",
       "    </tr>\n",
       "  </tbody>\n",
       "</table>\n",
       "</div>"
      ],
      "text/plain": [
       "               predicted canoe  predicted tennis\n",
       "actual canoe               241                27\n",
       "actual tennis               11               255"
      ]
     },
     "execution_count": 756,
     "metadata": {},
     "output_type": "execute_result"
    }
   ],
   "source": [
    "eval_metrics(lr_tfidf_gs, 'LR TVEC')"
   ]
  },
  {
   "cell_type": "markdown",
   "metadata": {},
   "source": [
    "### Random Forest with CVEC"
   ]
  },
  {
   "cell_type": "code",
   "execution_count": 757,
   "metadata": {
    "scrolled": true
   },
   "outputs": [
    {
     "name": "stdout",
     "output_type": "stream",
     "text": [
      "Specificity: 0.7985\n",
      "Sensitivity: 0.9662\n",
      "Accuracy: 0.882\n",
      "[['MB CVEC', 0.897003745318352], ['MB TVEC', 0.9250936329588015], ['LR CVEC', 0.900749063670412], ['LR TVEC', 0.9288389513108615], ['RF CVEC', 0.8820224719101124]]\n"
     ]
    },
    {
     "data": {
      "text/html": [
       "<div>\n",
       "<style scoped>\n",
       "    .dataframe tbody tr th:only-of-type {\n",
       "        vertical-align: middle;\n",
       "    }\n",
       "\n",
       "    .dataframe tbody tr th {\n",
       "        vertical-align: top;\n",
       "    }\n",
       "\n",
       "    .dataframe thead th {\n",
       "        text-align: right;\n",
       "    }\n",
       "</style>\n",
       "<table border=\"1\" class=\"dataframe\">\n",
       "  <thead>\n",
       "    <tr style=\"text-align: right;\">\n",
       "      <th></th>\n",
       "      <th>predicted canoe</th>\n",
       "      <th>predicted tennis</th>\n",
       "    </tr>\n",
       "  </thead>\n",
       "  <tbody>\n",
       "    <tr>\n",
       "      <th>actual canoe</th>\n",
       "      <td>214</td>\n",
       "      <td>54</td>\n",
       "    </tr>\n",
       "    <tr>\n",
       "      <th>actual tennis</th>\n",
       "      <td>9</td>\n",
       "      <td>257</td>\n",
       "    </tr>\n",
       "  </tbody>\n",
       "</table>\n",
       "</div>"
      ],
      "text/plain": [
       "               predicted canoe  predicted tennis\n",
       "actual canoe               214                54\n",
       "actual tennis                9               257"
      ]
     },
     "execution_count": 757,
     "metadata": {},
     "output_type": "execute_result"
    }
   ],
   "source": [
    "eval_metrics(rf_cvec_gs, 'RF CVEC')"
   ]
  },
  {
   "cell_type": "markdown",
   "metadata": {},
   "source": [
    "### Random Forest with TF-IDF"
   ]
  },
  {
   "cell_type": "code",
   "execution_count": 758,
   "metadata": {
    "scrolled": true
   },
   "outputs": [
    {
     "name": "stdout",
     "output_type": "stream",
     "text": [
      "Specificity: 0.806\n",
      "Sensitivity: 0.9774\n",
      "Accuracy: 0.8914\n",
      "[['MB CVEC', 0.897003745318352], ['MB TVEC', 0.9250936329588015], ['LR CVEC', 0.900749063670412], ['LR TVEC', 0.9288389513108615], ['RF CVEC', 0.8820224719101124], ['RF TVEC', 0.8913857677902621]]\n"
     ]
    },
    {
     "data": {
      "text/html": [
       "<div>\n",
       "<style scoped>\n",
       "    .dataframe tbody tr th:only-of-type {\n",
       "        vertical-align: middle;\n",
       "    }\n",
       "\n",
       "    .dataframe tbody tr th {\n",
       "        vertical-align: top;\n",
       "    }\n",
       "\n",
       "    .dataframe thead th {\n",
       "        text-align: right;\n",
       "    }\n",
       "</style>\n",
       "<table border=\"1\" class=\"dataframe\">\n",
       "  <thead>\n",
       "    <tr style=\"text-align: right;\">\n",
       "      <th></th>\n",
       "      <th>predicted canoe</th>\n",
       "      <th>predicted tennis</th>\n",
       "    </tr>\n",
       "  </thead>\n",
       "  <tbody>\n",
       "    <tr>\n",
       "      <th>actual canoe</th>\n",
       "      <td>216</td>\n",
       "      <td>52</td>\n",
       "    </tr>\n",
       "    <tr>\n",
       "      <th>actual tennis</th>\n",
       "      <td>6</td>\n",
       "      <td>260</td>\n",
       "    </tr>\n",
       "  </tbody>\n",
       "</table>\n",
       "</div>"
      ],
      "text/plain": [
       "               predicted canoe  predicted tennis\n",
       "actual canoe               216                52\n",
       "actual tennis                6               260"
      ]
     },
     "execution_count": 758,
     "metadata": {},
     "output_type": "execute_result"
    }
   ],
   "source": [
    "eval_metrics(rf_tfidf_gs, 'RF TVEC')"
   ]
  },
  {
   "cell_type": "markdown",
   "metadata": {},
   "source": [
    "### AdaBoost with CVEC"
   ]
  },
  {
   "cell_type": "code",
   "execution_count": 759,
   "metadata": {
    "scrolled": true
   },
   "outputs": [
    {
     "name": "stdout",
     "output_type": "stream",
     "text": [
      "Specificity: 0.8022\n",
      "Sensitivity: 0.9474\n",
      "Accuracy: 0.8745\n",
      "[['MB CVEC', 0.897003745318352], ['MB TVEC', 0.9250936329588015], ['LR CVEC', 0.900749063670412], ['LR TVEC', 0.9288389513108615], ['RF CVEC', 0.8820224719101124], ['RF TVEC', 0.8913857677902621], ['ADA CVEC', 0.8745318352059925]]\n"
     ]
    },
    {
     "data": {
      "text/html": [
       "<div>\n",
       "<style scoped>\n",
       "    .dataframe tbody tr th:only-of-type {\n",
       "        vertical-align: middle;\n",
       "    }\n",
       "\n",
       "    .dataframe tbody tr th {\n",
       "        vertical-align: top;\n",
       "    }\n",
       "\n",
       "    .dataframe thead th {\n",
       "        text-align: right;\n",
       "    }\n",
       "</style>\n",
       "<table border=\"1\" class=\"dataframe\">\n",
       "  <thead>\n",
       "    <tr style=\"text-align: right;\">\n",
       "      <th></th>\n",
       "      <th>predicted canoe</th>\n",
       "      <th>predicted tennis</th>\n",
       "    </tr>\n",
       "  </thead>\n",
       "  <tbody>\n",
       "    <tr>\n",
       "      <th>actual canoe</th>\n",
       "      <td>215</td>\n",
       "      <td>53</td>\n",
       "    </tr>\n",
       "    <tr>\n",
       "      <th>actual tennis</th>\n",
       "      <td>14</td>\n",
       "      <td>252</td>\n",
       "    </tr>\n",
       "  </tbody>\n",
       "</table>\n",
       "</div>"
      ],
      "text/plain": [
       "               predicted canoe  predicted tennis\n",
       "actual canoe               215                53\n",
       "actual tennis               14               252"
      ]
     },
     "execution_count": 759,
     "metadata": {},
     "output_type": "execute_result"
    }
   ],
   "source": [
    "eval_metrics(ada_cvec_gs, 'ADA CVEC')"
   ]
  },
  {
   "cell_type": "markdown",
   "metadata": {},
   "source": [
    "### AdaBoost with TF-IDF"
   ]
  },
  {
   "cell_type": "code",
   "execution_count": 760,
   "metadata": {
    "scrolled": true
   },
   "outputs": [
    {
     "name": "stdout",
     "output_type": "stream",
     "text": [
      "Specificity: 0.8209\n",
      "Sensitivity: 0.9248\n",
      "Accuracy: 0.8727\n",
      "[['MB CVEC', 0.897003745318352], ['MB TVEC', 0.9250936329588015], ['LR CVEC', 0.900749063670412], ['LR TVEC', 0.9288389513108615], ['RF CVEC', 0.8820224719101124], ['RF TVEC', 0.8913857677902621], ['ADA CVEC', 0.8745318352059925], ['ADA TVEC', 0.8726591760299626]]\n"
     ]
    },
    {
     "data": {
      "text/html": [
       "<div>\n",
       "<style scoped>\n",
       "    .dataframe tbody tr th:only-of-type {\n",
       "        vertical-align: middle;\n",
       "    }\n",
       "\n",
       "    .dataframe tbody tr th {\n",
       "        vertical-align: top;\n",
       "    }\n",
       "\n",
       "    .dataframe thead th {\n",
       "        text-align: right;\n",
       "    }\n",
       "</style>\n",
       "<table border=\"1\" class=\"dataframe\">\n",
       "  <thead>\n",
       "    <tr style=\"text-align: right;\">\n",
       "      <th></th>\n",
       "      <th>predicted canoe</th>\n",
       "      <th>predicted tennis</th>\n",
       "    </tr>\n",
       "  </thead>\n",
       "  <tbody>\n",
       "    <tr>\n",
       "      <th>actual canoe</th>\n",
       "      <td>220</td>\n",
       "      <td>48</td>\n",
       "    </tr>\n",
       "    <tr>\n",
       "      <th>actual tennis</th>\n",
       "      <td>20</td>\n",
       "      <td>246</td>\n",
       "    </tr>\n",
       "  </tbody>\n",
       "</table>\n",
       "</div>"
      ],
      "text/plain": [
       "               predicted canoe  predicted tennis\n",
       "actual canoe               220                48\n",
       "actual tennis               20               246"
      ]
     },
     "execution_count": 760,
     "metadata": {},
     "output_type": "execute_result"
    }
   ],
   "source": [
    "eval_metrics(ada_tvec_gs, 'ADA TVEC')"
   ]
  },
  {
   "cell_type": "markdown",
   "metadata": {},
   "source": [
    "### Voting Classifier with TF-IDF"
   ]
  },
  {
   "cell_type": "code",
   "execution_count": 761,
   "metadata": {},
   "outputs": [
    {
     "name": "stdout",
     "output_type": "stream",
     "text": [
      "Specificity: 0.8769\n",
      "Sensitivity: 0.9662\n",
      "Accuracy: 0.9213\n"
     ]
    },
    {
     "data": {
      "text/html": [
       "<div>\n",
       "<style scoped>\n",
       "    .dataframe tbody tr th:only-of-type {\n",
       "        vertical-align: middle;\n",
       "    }\n",
       "\n",
       "    .dataframe tbody tr th {\n",
       "        vertical-align: top;\n",
       "    }\n",
       "\n",
       "    .dataframe thead th {\n",
       "        text-align: right;\n",
       "    }\n",
       "</style>\n",
       "<table border=\"1\" class=\"dataframe\">\n",
       "  <thead>\n",
       "    <tr style=\"text-align: right;\">\n",
       "      <th></th>\n",
       "      <th>predicted canoe</th>\n",
       "      <th>predicted tennis</th>\n",
       "    </tr>\n",
       "  </thead>\n",
       "  <tbody>\n",
       "    <tr>\n",
       "      <th>actual canoe</th>\n",
       "      <td>235</td>\n",
       "      <td>33</td>\n",
       "    </tr>\n",
       "    <tr>\n",
       "      <th>actual tennis</th>\n",
       "      <td>9</td>\n",
       "      <td>257</td>\n",
       "    </tr>\n",
       "  </tbody>\n",
       "</table>\n",
       "</div>"
      ],
      "text/plain": [
       "               predicted canoe  predicted tennis\n",
       "actual canoe               235                33\n",
       "actual tennis                9               257"
      ]
     },
     "execution_count": 761,
     "metadata": {},
     "output_type": "execute_result"
    }
   ],
   "source": [
    "pred = gs.predict(X_test_vote)\n",
    "conf = confusion_matrix( y_test,# True values.\n",
    "                  pred)# Predicted values.\n",
    "tn, fp, fn, tp = conf.ravel()\n",
    "\n",
    "spec = tn / (tn + fp)\n",
    "print(f'Specificity: {round(spec,4)}')\n",
    "\n",
    "sens = tp / (tp + fn)\n",
    "print(f'Sensitivity: {round(sens,4)}')\n",
    "\n",
    "acc = (tp + tn) / (tp + fp + fn + tn)\n",
    "print(f'Accuracy: {round(acc,4)}')\n",
    "metrics.append(['Voting',  acc])\n",
    "df= pd.DataFrame(conf, index =  ['actual canoe', 'actual tennis'], columns = ['predicted canoe', 'predicted tennis'])\n",
    "df"
   ]
  },
  {
   "cell_type": "code",
   "execution_count": 762,
   "metadata": {},
   "outputs": [],
   "source": [
    "metrics_df = pd.DataFrame(metrics, columns=['model', 'acc'])"
   ]
  },
  {
   "cell_type": "markdown",
   "metadata": {},
   "source": [
    "Below are the test accuracy scores of all our models.  The highest performing set was the logistic regression with TF-IDF.  Three other models had test accuracy scores of above .9 (Naive bayes with TF-IDF, voting classifier, and logistic regression with CVEC).  In all cases, the TF-IDF version of each model outscored its CVEC counterpart.  The results of this table are also graphed below to visualize the accuracy scores of the model results."
   ]
  },
  {
   "cell_type": "code",
   "execution_count": 763,
   "metadata": {},
   "outputs": [
    {
     "data": {
      "text/html": [
       "<div>\n",
       "<style scoped>\n",
       "    .dataframe tbody tr th:only-of-type {\n",
       "        vertical-align: middle;\n",
       "    }\n",
       "\n",
       "    .dataframe tbody tr th {\n",
       "        vertical-align: top;\n",
       "    }\n",
       "\n",
       "    .dataframe thead th {\n",
       "        text-align: right;\n",
       "    }\n",
       "</style>\n",
       "<table border=\"1\" class=\"dataframe\">\n",
       "  <thead>\n",
       "    <tr style=\"text-align: right;\">\n",
       "      <th></th>\n",
       "      <th>model</th>\n",
       "      <th>acc</th>\n",
       "    </tr>\n",
       "  </thead>\n",
       "  <tbody>\n",
       "    <tr>\n",
       "      <th>7</th>\n",
       "      <td>ADA TVEC</td>\n",
       "      <td>0.872659</td>\n",
       "    </tr>\n",
       "    <tr>\n",
       "      <th>6</th>\n",
       "      <td>ADA CVEC</td>\n",
       "      <td>0.874532</td>\n",
       "    </tr>\n",
       "    <tr>\n",
       "      <th>4</th>\n",
       "      <td>RF CVEC</td>\n",
       "      <td>0.882022</td>\n",
       "    </tr>\n",
       "    <tr>\n",
       "      <th>5</th>\n",
       "      <td>RF TVEC</td>\n",
       "      <td>0.891386</td>\n",
       "    </tr>\n",
       "    <tr>\n",
       "      <th>0</th>\n",
       "      <td>MB CVEC</td>\n",
       "      <td>0.897004</td>\n",
       "    </tr>\n",
       "    <tr>\n",
       "      <th>2</th>\n",
       "      <td>LR CVEC</td>\n",
       "      <td>0.900749</td>\n",
       "    </tr>\n",
       "    <tr>\n",
       "      <th>8</th>\n",
       "      <td>Voting</td>\n",
       "      <td>0.921348</td>\n",
       "    </tr>\n",
       "    <tr>\n",
       "      <th>1</th>\n",
       "      <td>MB TVEC</td>\n",
       "      <td>0.925094</td>\n",
       "    </tr>\n",
       "    <tr>\n",
       "      <th>3</th>\n",
       "      <td>LR TVEC</td>\n",
       "      <td>0.928839</td>\n",
       "    </tr>\n",
       "  </tbody>\n",
       "</table>\n",
       "</div>"
      ],
      "text/plain": [
       "      model       acc\n",
       "7  ADA TVEC  0.872659\n",
       "6  ADA CVEC  0.874532\n",
       "4   RF CVEC  0.882022\n",
       "5   RF TVEC  0.891386\n",
       "0   MB CVEC  0.897004\n",
       "2   LR CVEC  0.900749\n",
       "8    Voting  0.921348\n",
       "1   MB TVEC  0.925094\n",
       "3   LR TVEC  0.928839"
      ]
     },
     "execution_count": 763,
     "metadata": {},
     "output_type": "execute_result"
    }
   ],
   "source": [
    "metrics_df = metrics_df.sort_values(by='acc')\n",
    "metrics_df"
   ]
  },
  {
   "cell_type": "code",
   "execution_count": 764,
   "metadata": {},
   "outputs": [],
   "source": [
    "import matplotlib.pyplot as plt\n",
    "import numpy as np\n",
    "import seaborn as sns\n",
    "%matplotlib inline"
   ]
  },
  {
   "cell_type": "code",
   "execution_count": 766,
   "metadata": {},
   "outputs": [
    {
     "data": {
      "text/plain": [
       "Text(0, 0.5, 'Accuracy')"
      ]
     },
     "execution_count": 766,
     "metadata": {},
     "output_type": "execute_result"
    },
    {
     "data": {
      "image/png": "[encoded data removed]",
      "text/plain": [
       "<Figure size 612x612 with 1 Axes>"
      ]
     },
     "metadata": {
      "needs_background": "light"
     },
     "output_type": "display_data"
    }
   ],
   "source": [
    "sorted_accs = metrics_df.sort_values(by = 'acc')\n",
    "\n",
    "plt.figure(figsize=(8.5, 8.5))\n",
    "plt.bar(sorted_accs.model,\n",
    "        sorted_accs.acc)\n",
    "plt.title('Test Set Accuracy By Model', fontsize = 20)\n",
    "plt.xticks(rotation=45)\n",
    "plt.yticks(np.arange(0, 1, step=0.05))\n",
    "plt.xlabel(\"Model\", fontsize = 20)\n",
    "plt.ylabel(\"Accuracy\", fontsize = 20)\n",
    "\n",
    "\n"
   ]
  },
  {
   "cell_type": "markdown",
   "metadata": {},
   "source": [
    "## Conclusion <a class=\"anchor\" id=\"sixteen-bullet\"></a>"
   ]
  },
  {
   "cell_type": "markdown",
   "metadata": {},
   "source": [
    "After running our models, we now know which should be used in production.  The logistic regression model with TF-IDF performed best (highest accuracy) for our test dataset, getting 93% of posts correct.  This is higher than our baseline of 50%.  It is also higher than any of the other models we ran.  Using this model we will be able to answer our initial research question; predicting which sub-reddit a post belongs to using the post title.  \n",
    "\n",
    "Although we have a model that will predict results correct for 93% of cases, additional research can performed.  We could attempt to use the hashing vectorizer to see if that improves our results.  As we learned by running both CVEC and TF-IDF, the vectorization does make a difference in the results of the models.  Running the models with the hashing vectorizer may improve results.  \n",
    "\n",
    "We could also attempt to using the AdaBoost model with other models.  The decision tree was used as the base estimator, but other models could be attempted.  Additional research could also be performed on ensemble models.  These models could be high performing options.  The voting classifier model could also be modified to include other models, other than the top three performing options that we included."
   ]
  }
 ],
 "metadata": {
  "kernelspec": {
   "display_name": "Python 3",
   "language": "python",
   "name": "python3"
  },
  "language_info": {
   "codemirror_mode": {
    "name": "ipython",
    "version": 3
   },
   "file_extension": ".py",
   "mimetype": "text/x-python",
   "name": "python",
   "nbconvert_exporter": "python",
   "pygments_lexer": "ipython3",
   "version": "3.6.7"
  }
 },
 "nbformat": 4,
 "nbformat_minor": 2
}
